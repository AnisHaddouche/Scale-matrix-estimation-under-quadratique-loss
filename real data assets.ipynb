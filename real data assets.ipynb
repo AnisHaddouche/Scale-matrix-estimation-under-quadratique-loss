{
 "cells": [
  {
   "cell_type": "code",
   "execution_count": 70,
   "metadata": {},
   "outputs": [
    {
     "name": "stdout",
     "output_type": "stream",
     "text": [
      "[['WIKI/AAPL.4'], ['WIKI/IBM.4'], ['WIKI/TXN.4'], ['WIKI/AAP.4'], ['WIKI/AAWW.4'], ['WIKI/ABAX.4'], ['WIKI/ABC.4'], ['WIKI/ABCB.4'], ['WIKI/ABFS.4'], ['WIKI/ABG.4'], ['WIKI/ABM.4'], ['WIKI/ABMD.4'], ['WIKI/ABT.4'], ['WIKI/ACAD.4'], ['WIKI/YHOO.4'], ['WIKI/YUM.4'], ['WIKI/BPI.4'], ['WIKI/BPZ.4'], ['WIKI/BPOP.4'], ['WIKI/CAT.4'], ['WIKI/DRTX.4'], ['WIKI/ETM.4'], ['WIKI/EVC.4'], ['WIKI/EXAM.4'], ['WIKI/FARO.4'], ['WIKI/FBP.4'], ['WIKI/GD.4'], ['WIKI/GFF.4'], ['WIKI/GILD.4'], ['WIKI/GIS.4'], ['WIKI/GME.4'], ['WIKI/NKE.4'], ['WIKI/NKTR.4'], ['WIKI/PIKE.4'], ['WIKI/PJC.4']]\n"
     ]
    }
   ],
   "source": [
    "\n",
    "# Covariance Matrix for N-Asset Portfolio fed by Quandl in Python\n",
    "# (c) 2014 QuantAtRisk, by Pawel Lachowicz\n",
    "# le lien pour le tutorial http://www.quantatrisk.com/2014/11/07/covariance-matrix-for-n-asset-portfolio-fed-by-quandl-in-python/\n",
    "#  Remarque : 1 La matrice de Covariance Sigma est non inversible !!! \n",
    "\n",
    "import quandl\n",
    "quandl.ApiConfig.api_key = 'dkX1jZsYJiCopxAzFG98'\n",
    "\n",
    "\n",
    "\n",
    "import numpy as np\n",
    "import pandas as pd\n",
    " \n",
    "df=pd.read_csv('secwiki_tickers.csv')\n",
    "dp=pd.read_csv('portfolio.lst.csv',names=['pTicker'])\n",
    "pTickers=dp.pTicker.values  # converts into a list\n",
    "\n",
    "tmpTickers=[]\n",
    "for i in range(len(pTickers)):\n",
    "    test=df[df.Ticker==(pTickers[i])]\n",
    "    if not(test.empty):\n",
    "        tmp=test.Price.values+'.4'  # of <type 'numpy.ndarray'>\n",
    "        tmp2=tmp.tolist()\n",
    "        tmpTickers.append(tmp2)\n",
    " \n",
    "print(tmpTickers)"
   ]
  },
  {
   "cell_type": "code",
   "execution_count": 71,
   "metadata": {},
   "outputs": [
    {
     "name": "stdout",
     "output_type": "stream",
     "text": [
      "[]\n",
      "['WIKI/AAPL.4']\n",
      "['WIKI/AAPL.4', 'WIKI/IBM.4']\n",
      "['WIKI/AAPL.4', 'WIKI/IBM.4', 'WIKI/TXN.4']\n",
      "['WIKI/AAPL.4', 'WIKI/IBM.4', 'WIKI/TXN.4', 'WIKI/AAP.4']\n",
      "['WIKI/AAPL.4', 'WIKI/IBM.4', 'WIKI/TXN.4', 'WIKI/AAP.4', 'WIKI/AAWW.4']\n",
      "['WIKI/AAPL.4', 'WIKI/IBM.4', 'WIKI/TXN.4', 'WIKI/AAP.4', 'WIKI/AAWW.4', 'WIKI/ABAX.4']\n",
      "['WIKI/AAPL.4', 'WIKI/IBM.4', 'WIKI/TXN.4', 'WIKI/AAP.4', 'WIKI/AAWW.4', 'WIKI/ABAX.4', 'WIKI/ABC.4']\n",
      "['WIKI/AAPL.4', 'WIKI/IBM.4', 'WIKI/TXN.4', 'WIKI/AAP.4', 'WIKI/AAWW.4', 'WIKI/ABAX.4', 'WIKI/ABC.4', 'WIKI/ABCB.4']\n",
      "['WIKI/AAPL.4', 'WIKI/IBM.4', 'WIKI/TXN.4', 'WIKI/AAP.4', 'WIKI/AAWW.4', 'WIKI/ABAX.4', 'WIKI/ABC.4', 'WIKI/ABCB.4', 'WIKI/ABFS.4']\n",
      "['WIKI/AAPL.4', 'WIKI/IBM.4', 'WIKI/TXN.4', 'WIKI/AAP.4', 'WIKI/AAWW.4', 'WIKI/ABAX.4', 'WIKI/ABC.4', 'WIKI/ABCB.4', 'WIKI/ABFS.4', 'WIKI/ABG.4']\n",
      "['WIKI/AAPL.4', 'WIKI/IBM.4', 'WIKI/TXN.4', 'WIKI/AAP.4', 'WIKI/AAWW.4', 'WIKI/ABAX.4', 'WIKI/ABC.4', 'WIKI/ABCB.4', 'WIKI/ABFS.4', 'WIKI/ABG.4', 'WIKI/ABM.4']\n",
      "['WIKI/AAPL.4', 'WIKI/IBM.4', 'WIKI/TXN.4', 'WIKI/AAP.4', 'WIKI/AAWW.4', 'WIKI/ABAX.4', 'WIKI/ABC.4', 'WIKI/ABCB.4', 'WIKI/ABFS.4', 'WIKI/ABG.4', 'WIKI/ABM.4', 'WIKI/ABMD.4']\n",
      "['WIKI/AAPL.4', 'WIKI/IBM.4', 'WIKI/TXN.4', 'WIKI/AAP.4', 'WIKI/AAWW.4', 'WIKI/ABAX.4', 'WIKI/ABC.4', 'WIKI/ABCB.4', 'WIKI/ABFS.4', 'WIKI/ABG.4', 'WIKI/ABM.4', 'WIKI/ABMD.4', 'WIKI/ABT.4']\n",
      "['WIKI/AAPL.4', 'WIKI/IBM.4', 'WIKI/TXN.4', 'WIKI/AAP.4', 'WIKI/AAWW.4', 'WIKI/ABAX.4', 'WIKI/ABC.4', 'WIKI/ABCB.4', 'WIKI/ABFS.4', 'WIKI/ABG.4', 'WIKI/ABM.4', 'WIKI/ABMD.4', 'WIKI/ABT.4', 'WIKI/ACAD.4']\n",
      "['WIKI/AAPL.4', 'WIKI/IBM.4', 'WIKI/TXN.4', 'WIKI/AAP.4', 'WIKI/AAWW.4', 'WIKI/ABAX.4', 'WIKI/ABC.4', 'WIKI/ABCB.4', 'WIKI/ABFS.4', 'WIKI/ABG.4', 'WIKI/ABM.4', 'WIKI/ABMD.4', 'WIKI/ABT.4', 'WIKI/ACAD.4', 'WIKI/YHOO.4']\n",
      "['WIKI/AAPL.4', 'WIKI/IBM.4', 'WIKI/TXN.4', 'WIKI/AAP.4', 'WIKI/AAWW.4', 'WIKI/ABAX.4', 'WIKI/ABC.4', 'WIKI/ABCB.4', 'WIKI/ABFS.4', 'WIKI/ABG.4', 'WIKI/ABM.4', 'WIKI/ABMD.4', 'WIKI/ABT.4', 'WIKI/ACAD.4', 'WIKI/YHOO.4', 'WIKI/YUM.4']\n",
      "['WIKI/AAPL.4', 'WIKI/IBM.4', 'WIKI/TXN.4', 'WIKI/AAP.4', 'WIKI/AAWW.4', 'WIKI/ABAX.4', 'WIKI/ABC.4', 'WIKI/ABCB.4', 'WIKI/ABFS.4', 'WIKI/ABG.4', 'WIKI/ABM.4', 'WIKI/ABMD.4', 'WIKI/ABT.4', 'WIKI/ACAD.4', 'WIKI/YHOO.4', 'WIKI/YUM.4', 'WIKI/BPI.4']\n",
      "['WIKI/AAPL.4', 'WIKI/IBM.4', 'WIKI/TXN.4', 'WIKI/AAP.4', 'WIKI/AAWW.4', 'WIKI/ABAX.4', 'WIKI/ABC.4', 'WIKI/ABCB.4', 'WIKI/ABFS.4', 'WIKI/ABG.4', 'WIKI/ABM.4', 'WIKI/ABMD.4', 'WIKI/ABT.4', 'WIKI/ACAD.4', 'WIKI/YHOO.4', 'WIKI/YUM.4', 'WIKI/BPI.4', 'WIKI/BPZ.4']\n",
      "['WIKI/AAPL.4', 'WIKI/IBM.4', 'WIKI/TXN.4', 'WIKI/AAP.4', 'WIKI/AAWW.4', 'WIKI/ABAX.4', 'WIKI/ABC.4', 'WIKI/ABCB.4', 'WIKI/ABFS.4', 'WIKI/ABG.4', 'WIKI/ABM.4', 'WIKI/ABMD.4', 'WIKI/ABT.4', 'WIKI/ACAD.4', 'WIKI/YHOO.4', 'WIKI/YUM.4', 'WIKI/BPI.4', 'WIKI/BPZ.4', 'WIKI/BPOP.4']\n",
      "['WIKI/AAPL.4', 'WIKI/IBM.4', 'WIKI/TXN.4', 'WIKI/AAP.4', 'WIKI/AAWW.4', 'WIKI/ABAX.4', 'WIKI/ABC.4', 'WIKI/ABCB.4', 'WIKI/ABFS.4', 'WIKI/ABG.4', 'WIKI/ABM.4', 'WIKI/ABMD.4', 'WIKI/ABT.4', 'WIKI/ACAD.4', 'WIKI/YHOO.4', 'WIKI/YUM.4', 'WIKI/BPI.4', 'WIKI/BPZ.4', 'WIKI/BPOP.4', 'WIKI/CAT.4']\n",
      "['WIKI/AAPL.4', 'WIKI/IBM.4', 'WIKI/TXN.4', 'WIKI/AAP.4', 'WIKI/AAWW.4', 'WIKI/ABAX.4', 'WIKI/ABC.4', 'WIKI/ABCB.4', 'WIKI/ABFS.4', 'WIKI/ABG.4', 'WIKI/ABM.4', 'WIKI/ABMD.4', 'WIKI/ABT.4', 'WIKI/ACAD.4', 'WIKI/YHOO.4', 'WIKI/YUM.4', 'WIKI/BPI.4', 'WIKI/BPZ.4', 'WIKI/BPOP.4', 'WIKI/CAT.4', 'WIKI/DRTX.4']\n",
      "['WIKI/AAPL.4', 'WIKI/IBM.4', 'WIKI/TXN.4', 'WIKI/AAP.4', 'WIKI/AAWW.4', 'WIKI/ABAX.4', 'WIKI/ABC.4', 'WIKI/ABCB.4', 'WIKI/ABFS.4', 'WIKI/ABG.4', 'WIKI/ABM.4', 'WIKI/ABMD.4', 'WIKI/ABT.4', 'WIKI/ACAD.4', 'WIKI/YHOO.4', 'WIKI/YUM.4', 'WIKI/BPI.4', 'WIKI/BPZ.4', 'WIKI/BPOP.4', 'WIKI/CAT.4', 'WIKI/DRTX.4', 'WIKI/ETM.4']\n",
      "['WIKI/AAPL.4', 'WIKI/IBM.4', 'WIKI/TXN.4', 'WIKI/AAP.4', 'WIKI/AAWW.4', 'WIKI/ABAX.4', 'WIKI/ABC.4', 'WIKI/ABCB.4', 'WIKI/ABFS.4', 'WIKI/ABG.4', 'WIKI/ABM.4', 'WIKI/ABMD.4', 'WIKI/ABT.4', 'WIKI/ACAD.4', 'WIKI/YHOO.4', 'WIKI/YUM.4', 'WIKI/BPI.4', 'WIKI/BPZ.4', 'WIKI/BPOP.4', 'WIKI/CAT.4', 'WIKI/DRTX.4', 'WIKI/ETM.4', 'WIKI/EVC.4']\n",
      "['WIKI/AAPL.4', 'WIKI/IBM.4', 'WIKI/TXN.4', 'WIKI/AAP.4', 'WIKI/AAWW.4', 'WIKI/ABAX.4', 'WIKI/ABC.4', 'WIKI/ABCB.4', 'WIKI/ABFS.4', 'WIKI/ABG.4', 'WIKI/ABM.4', 'WIKI/ABMD.4', 'WIKI/ABT.4', 'WIKI/ACAD.4', 'WIKI/YHOO.4', 'WIKI/YUM.4', 'WIKI/BPI.4', 'WIKI/BPZ.4', 'WIKI/BPOP.4', 'WIKI/CAT.4', 'WIKI/DRTX.4', 'WIKI/ETM.4', 'WIKI/EVC.4', 'WIKI/EXAM.4']\n",
      "['WIKI/AAPL.4', 'WIKI/IBM.4', 'WIKI/TXN.4', 'WIKI/AAP.4', 'WIKI/AAWW.4', 'WIKI/ABAX.4', 'WIKI/ABC.4', 'WIKI/ABCB.4', 'WIKI/ABFS.4', 'WIKI/ABG.4', 'WIKI/ABM.4', 'WIKI/ABMD.4', 'WIKI/ABT.4', 'WIKI/ACAD.4', 'WIKI/YHOO.4', 'WIKI/YUM.4', 'WIKI/BPI.4', 'WIKI/BPZ.4', 'WIKI/BPOP.4', 'WIKI/CAT.4', 'WIKI/DRTX.4', 'WIKI/ETM.4', 'WIKI/EVC.4', 'WIKI/EXAM.4', 'WIKI/FARO.4']\n",
      "['WIKI/AAPL.4', 'WIKI/IBM.4', 'WIKI/TXN.4', 'WIKI/AAP.4', 'WIKI/AAWW.4', 'WIKI/ABAX.4', 'WIKI/ABC.4', 'WIKI/ABCB.4', 'WIKI/ABFS.4', 'WIKI/ABG.4', 'WIKI/ABM.4', 'WIKI/ABMD.4', 'WIKI/ABT.4', 'WIKI/ACAD.4', 'WIKI/YHOO.4', 'WIKI/YUM.4', 'WIKI/BPI.4', 'WIKI/BPZ.4', 'WIKI/BPOP.4', 'WIKI/CAT.4', 'WIKI/DRTX.4', 'WIKI/ETM.4', 'WIKI/EVC.4', 'WIKI/EXAM.4', 'WIKI/FARO.4', 'WIKI/FBP.4']\n",
      "['WIKI/AAPL.4', 'WIKI/IBM.4', 'WIKI/TXN.4', 'WIKI/AAP.4', 'WIKI/AAWW.4', 'WIKI/ABAX.4', 'WIKI/ABC.4', 'WIKI/ABCB.4', 'WIKI/ABFS.4', 'WIKI/ABG.4', 'WIKI/ABM.4', 'WIKI/ABMD.4', 'WIKI/ABT.4', 'WIKI/ACAD.4', 'WIKI/YHOO.4', 'WIKI/YUM.4', 'WIKI/BPI.4', 'WIKI/BPZ.4', 'WIKI/BPOP.4', 'WIKI/CAT.4', 'WIKI/DRTX.4', 'WIKI/ETM.4', 'WIKI/EVC.4', 'WIKI/EXAM.4', 'WIKI/FARO.4', 'WIKI/FBP.4', 'WIKI/GD.4']\n",
      "['WIKI/AAPL.4', 'WIKI/IBM.4', 'WIKI/TXN.4', 'WIKI/AAP.4', 'WIKI/AAWW.4', 'WIKI/ABAX.4', 'WIKI/ABC.4', 'WIKI/ABCB.4', 'WIKI/ABFS.4', 'WIKI/ABG.4', 'WIKI/ABM.4', 'WIKI/ABMD.4', 'WIKI/ABT.4', 'WIKI/ACAD.4', 'WIKI/YHOO.4', 'WIKI/YUM.4', 'WIKI/BPI.4', 'WIKI/BPZ.4', 'WIKI/BPOP.4', 'WIKI/CAT.4', 'WIKI/DRTX.4', 'WIKI/ETM.4', 'WIKI/EVC.4', 'WIKI/EXAM.4', 'WIKI/FARO.4', 'WIKI/FBP.4', 'WIKI/GD.4', 'WIKI/GFF.4']\n",
      "['WIKI/AAPL.4', 'WIKI/IBM.4', 'WIKI/TXN.4', 'WIKI/AAP.4', 'WIKI/AAWW.4', 'WIKI/ABAX.4', 'WIKI/ABC.4', 'WIKI/ABCB.4', 'WIKI/ABFS.4', 'WIKI/ABG.4', 'WIKI/ABM.4', 'WIKI/ABMD.4', 'WIKI/ABT.4', 'WIKI/ACAD.4', 'WIKI/YHOO.4', 'WIKI/YUM.4', 'WIKI/BPI.4', 'WIKI/BPZ.4', 'WIKI/BPOP.4', 'WIKI/CAT.4', 'WIKI/DRTX.4', 'WIKI/ETM.4', 'WIKI/EVC.4', 'WIKI/EXAM.4', 'WIKI/FARO.4', 'WIKI/FBP.4', 'WIKI/GD.4', 'WIKI/GFF.4', 'WIKI/GILD.4']\n",
      "['WIKI/AAPL.4', 'WIKI/IBM.4', 'WIKI/TXN.4', 'WIKI/AAP.4', 'WIKI/AAWW.4', 'WIKI/ABAX.4', 'WIKI/ABC.4', 'WIKI/ABCB.4', 'WIKI/ABFS.4', 'WIKI/ABG.4', 'WIKI/ABM.4', 'WIKI/ABMD.4', 'WIKI/ABT.4', 'WIKI/ACAD.4', 'WIKI/YHOO.4', 'WIKI/YUM.4', 'WIKI/BPI.4', 'WIKI/BPZ.4', 'WIKI/BPOP.4', 'WIKI/CAT.4', 'WIKI/DRTX.4', 'WIKI/ETM.4', 'WIKI/EVC.4', 'WIKI/EXAM.4', 'WIKI/FARO.4', 'WIKI/FBP.4', 'WIKI/GD.4', 'WIKI/GFF.4', 'WIKI/GILD.4', 'WIKI/GIS.4']\n",
      "['WIKI/AAPL.4', 'WIKI/IBM.4', 'WIKI/TXN.4', 'WIKI/AAP.4', 'WIKI/AAWW.4', 'WIKI/ABAX.4', 'WIKI/ABC.4', 'WIKI/ABCB.4', 'WIKI/ABFS.4', 'WIKI/ABG.4', 'WIKI/ABM.4', 'WIKI/ABMD.4', 'WIKI/ABT.4', 'WIKI/ACAD.4', 'WIKI/YHOO.4', 'WIKI/YUM.4', 'WIKI/BPI.4', 'WIKI/BPZ.4', 'WIKI/BPOP.4', 'WIKI/CAT.4', 'WIKI/DRTX.4', 'WIKI/ETM.4', 'WIKI/EVC.4', 'WIKI/EXAM.4', 'WIKI/FARO.4', 'WIKI/FBP.4', 'WIKI/GD.4', 'WIKI/GFF.4', 'WIKI/GILD.4', 'WIKI/GIS.4', 'WIKI/GME.4']\n",
      "['WIKI/AAPL.4', 'WIKI/IBM.4', 'WIKI/TXN.4', 'WIKI/AAP.4', 'WIKI/AAWW.4', 'WIKI/ABAX.4', 'WIKI/ABC.4', 'WIKI/ABCB.4', 'WIKI/ABFS.4', 'WIKI/ABG.4', 'WIKI/ABM.4', 'WIKI/ABMD.4', 'WIKI/ABT.4', 'WIKI/ACAD.4', 'WIKI/YHOO.4', 'WIKI/YUM.4', 'WIKI/BPI.4', 'WIKI/BPZ.4', 'WIKI/BPOP.4', 'WIKI/CAT.4', 'WIKI/DRTX.4', 'WIKI/ETM.4', 'WIKI/EVC.4', 'WIKI/EXAM.4', 'WIKI/FARO.4', 'WIKI/FBP.4', 'WIKI/GD.4', 'WIKI/GFF.4', 'WIKI/GILD.4', 'WIKI/GIS.4', 'WIKI/GME.4', 'WIKI/NKE.4']\n",
      "['WIKI/AAPL.4', 'WIKI/IBM.4', 'WIKI/TXN.4', 'WIKI/AAP.4', 'WIKI/AAWW.4', 'WIKI/ABAX.4', 'WIKI/ABC.4', 'WIKI/ABCB.4', 'WIKI/ABFS.4', 'WIKI/ABG.4', 'WIKI/ABM.4', 'WIKI/ABMD.4', 'WIKI/ABT.4', 'WIKI/ACAD.4', 'WIKI/YHOO.4', 'WIKI/YUM.4', 'WIKI/BPI.4', 'WIKI/BPZ.4', 'WIKI/BPOP.4', 'WIKI/CAT.4', 'WIKI/DRTX.4', 'WIKI/ETM.4', 'WIKI/EVC.4', 'WIKI/EXAM.4', 'WIKI/FARO.4', 'WIKI/FBP.4', 'WIKI/GD.4', 'WIKI/GFF.4', 'WIKI/GILD.4', 'WIKI/GIS.4', 'WIKI/GME.4', 'WIKI/NKE.4', 'WIKI/NKTR.4']\n",
      "['WIKI/AAPL.4', 'WIKI/IBM.4', 'WIKI/TXN.4', 'WIKI/AAP.4', 'WIKI/AAWW.4', 'WIKI/ABAX.4', 'WIKI/ABC.4', 'WIKI/ABCB.4', 'WIKI/ABFS.4', 'WIKI/ABG.4', 'WIKI/ABM.4', 'WIKI/ABMD.4', 'WIKI/ABT.4', 'WIKI/ACAD.4', 'WIKI/YHOO.4', 'WIKI/YUM.4', 'WIKI/BPI.4', 'WIKI/BPZ.4', 'WIKI/BPOP.4', 'WIKI/CAT.4', 'WIKI/DRTX.4', 'WIKI/ETM.4', 'WIKI/EVC.4', 'WIKI/EXAM.4', 'WIKI/FARO.4', 'WIKI/FBP.4', 'WIKI/GD.4', 'WIKI/GFF.4', 'WIKI/GILD.4', 'WIKI/GIS.4', 'WIKI/GME.4', 'WIKI/NKE.4', 'WIKI/NKTR.4', 'WIKI/PIKE.4']\n",
      "['WIKI/AAPL.4', 'WIKI/IBM.4', 'WIKI/TXN.4', 'WIKI/AAP.4', 'WIKI/AAWW.4', 'WIKI/ABAX.4', 'WIKI/ABC.4', 'WIKI/ABCB.4', 'WIKI/ABFS.4', 'WIKI/ABG.4', 'WIKI/ABM.4', 'WIKI/ABMD.4', 'WIKI/ABT.4', 'WIKI/ACAD.4', 'WIKI/YHOO.4', 'WIKI/YUM.4', 'WIKI/BPI.4', 'WIKI/BPZ.4', 'WIKI/BPOP.4', 'WIKI/CAT.4', 'WIKI/DRTX.4', 'WIKI/ETM.4', 'WIKI/EVC.4', 'WIKI/EXAM.4', 'WIKI/FARO.4', 'WIKI/FBP.4', 'WIKI/GD.4', 'WIKI/GFF.4', 'WIKI/GILD.4', 'WIKI/GIS.4', 'WIKI/GME.4', 'WIKI/NKE.4', 'WIKI/NKTR.4', 'WIKI/PIKE.4', 'WIKI/PJC.4']\n"
     ]
    }
   ],
   "source": [
    "\n",
    "tmp=[]\n",
    "for i in range(len(tmpTickers)):\n",
    "    tmp2=str(tmpTickers[i]).strip('[]')\n",
    "    print(tmp)\n",
    "    tmp.append(str(tmp2).strip('\\'\\''))\n",
    " \n",
    "QuandlTickers=tmp\n",
    "print(QuandlTickers)"
   ]
  },
  {
   "cell_type": "code",
   "execution_count": 122,
   "metadata": {},
   "outputs": [],
   "source": [
    "data= quandl.get(QuandlTickers, authtoken='dkX1jZsYJiCopxAzFG98', \\\n",
    "                 trim_start='2014-10-01', trim_end='2015-11-04', \\\n",
    "                 transformation='rdiff')\n",
    " \n",
    "d=data.values.T\n"
   ]
  },
  {
   "cell_type": "code",
   "execution_count": 127,
   "metadata": {},
   "outputs": [
    {
     "name": "stdout",
     "output_type": "stream",
     "text": [
      "p= 35 n= 276\n"
     ]
    }
   ],
   "source": [
    "\n",
    "for i in range(d.shape[0]):\n",
    "    df=pd.DataFrame(d[i])\n",
    "    df.fillna(0,inplace=True)\n",
    "    d[i]=df.values.T\n",
    " \n",
    "[p,n]=np.shape(d)\n",
    "print('p=',p,'n=',n)\n",
    "Sigma=np.cov(d.astype(float)) "
   ]
  },
  {
   "cell_type": "code",
   "execution_count": 117,
   "metadata": {},
   "outputs": [],
   "source": []
  },
  {
   "cell_type": "code",
   "execution_count": 134,
   "metadata": {},
   "outputs": [
    {
     "name": "stdout",
     "output_type": "stream",
     "text": [
      "Cout Q: Risk aS = 18.76335382990122 || risk Konno = 18.61884732342227 || Prial  =  0.770152861737681\n"
     ]
    }
   ],
   "source": [
    "import numpy as np\n",
    "import math\n",
    "import sys\n",
    "import matplotlib.pyplot as plt\n",
    "from scipy.stats import invgamma\n",
    "#from scipy.stats import invgamma\n",
    "np.random.seed(16) #Fixer le noyau\n",
    "\n",
    "n=32\n",
    "q = 0           # Rang de M. q = 0 revient simuler U = Y = E Gaussien nxp, car M = 0                        \n",
    "m = n-q\n",
    "N=   1000    #Monte carlo nb de simulation\n",
    "\n",
    "\n",
    "\n",
    "\n",
    "\n",
    "a_Quad_loss = 1 / ( m + p + 1)\n",
    "\n",
    "t_K_Quad_loss =  ( 2*(m-1)*(p-m-1) )/((p-m+1)*(p-m+3) )\n",
    "\n",
    "\n",
    "##=============== 1/ Simuler le modele additif Y=M+E    =======================\n",
    "#================ 1.1 \\ Construction de la matrice des bruits E ===============\n",
    "\n",
    "Loss_Sigma_a_Quad = 0\n",
    "#Loss_Sigma_a_dataB = 0\n",
    "\n",
    "Loss_Sigma_K_Quad = 0 #\n",
    "#Loss_Sigma_K_dataB = 0\n",
    "\n",
    "E = np.zeros((n,p))\n",
    "\n",
    "Mean = np.zeros(p)\n",
    "for j in range(0,N): \n",
    "   \n",
    "    E = np.random.multivariate_normal(Mean, Sigma, (n))   \n",
    "   # E  = multivariate_t_rvs(Mean, Sigma, ddl, n=n)\n",
    "#================ 1.2\\ Creer une matrice M de rang q ==========================\n",
    "    M0 = np.random.rand(n,p)                    # Generer une matrice aleatoire faire une QR pour M0\n",
    "    [u,val_propre_M0,v] = np.linalg.svd(M0)        # Faire une S.V.D\n",
    "    #Diag = np.diag(val_propre_M0)       \n",
    "    M = np.dot(np.dot(u[:,0:q],np.diag(val_propre_M0)[0:q,0:q]),v[0:q,:])\n",
    "    #[uuu,val_propre_M,vvv] = np.linalg.svd(M)\n",
    "    # print('Le Rang de M est de :',np.linalg.matrix_rank(M))\n",
    "    [Q,R]=np.linalg.qr(M)\n",
    "    Q_trans_Y = np.dot(Q.T,M) + np.dot(Q.T,E)\n",
    "    Z = Q_trans_Y[0:q,:]\n",
    "    U = Q_trans_Y[q:n,:] \n",
    "    #Y = M + E \n",
    "    #==================== 2\\ Forme canonique du modele ============================ \n",
    "    \n",
    "    #Z = Q_trans_Y[0np.shap:q,:] ; U = Q_trans_Y[q : n, :]               # c'est juste ?\n",
    "    S = np.dot(U.T,U) \n",
    "    #print('Rang de S :',np.linalg.matrix_rank(S),/\\ Deteminant de S',np.linalg.det(S))\n",
    "    S_plus = np.linalg.pinv(S)                   # The Moore-Penrose inverse\n",
    "    trace_S_plus = np.matrix.trace(S_plus)       # Trace de S^+\n",
    "    mu = 1/ trace_S_plus\n",
    "    [R,V,D] = np.linalg.svd(U)                   # SVD pour U afin de construire S= H L_tilde H^T\n",
    "    #val_propre_S = V*V.T\n",
    "    L = np.diag(V*V )                          # Recuperer L\n",
    "    #L_inv= np.linalg.inv(L)\n",
    "    \n",
    "    L_tilde = np.zeros((p,p))\n",
    "    H1 = D.T[:,0:m]\n",
    "    \n",
    "    #=============== 3\\ Construction des estimateurs et des risques associes=======\n",
    "   \n",
    "    Sigma_hat_a_Quad_loss  =   a_Quad_loss *S\n",
    "    risk_Sigma_hat_a_Quad_loss = p*(p+1)*a_Quad_loss                  #Sigma^_a\n",
    "    \n",
    "    #=============== Estimateur de Konno ===============\n",
    "    \n",
    "\n",
    "    Phi_K_Quad = L + mu * t_K_Quad_loss * np.identity(m)\n",
    "    \n",
    "    Sigma_hat_K =  a_Quad_loss  * np.dot( np.dot(H1,Phi_K_Quad), H1.T ) # Estimateur de Konno\n",
    " \n",
    "    \n",
    "   \n",
    "    Loss_Sigma_K_Quad= Loss_Sigma_K_Quad +np.matrix.trace( ( ( (np.linalg.pinv(Sigma))@ (Sigma_hat_K ) )-np.identity(p) ) @  ( ( (np.linalg.pinv(Sigma))@ (Sigma_hat_K ) )-np.identity(p) ))\n",
    "    Risk_Sigma_K_Quad=(1/N)*(Loss_Sigma_K_Quad)\n",
    "    \n",
    "    Loss_Sigma_a_Quad = Loss_Sigma_a_Quad + np.matrix.trace( ( ( (np.linalg.pinv(Sigma))@ (Sigma_hat_a_Quad_loss) )-np.identity(p) ) @  ( ( (np.linalg.pinv(Sigma))@ (Sigma_hat_a_Quad_loss ) )-np.identity(p) ))\n",
    "    Risk_Sigma_a_Quad=(1/N)*(Loss_Sigma_a_Quad)\n",
    "\n",
    "   \n",
    "\n",
    "\n",
    "Prial_K_a_Quad = 100*( (Risk_Sigma_a_Quad - Risk_Sigma_K_Quad   ) / Risk_Sigma_a_Quad)\n",
    "\n",
    "\n",
    "print('Cout Q:','Risk aS =',Risk_Sigma_a_Quad,\"||\" ,'risk Konno =', Risk_Sigma_K_Quad,\"||\",'Prial  = ',Prial_K_a_Quad)"
   ]
  },
  {
   "cell_type": "markdown",
   "metadata": {},
   "source": [
    "#####\n",
    "\n",
    "n1=10 prial1= 0.510\n",
    "\n",
    "n2=20 prial2 = 1.43\n",
    "\n",
    "n3=3  prial3 = 1.29    "
   ]
  },
  {
   "cell_type": "code",
   "execution_count": null,
   "metadata": {},
   "outputs": [],
   "source": []
  }
 ],
 "metadata": {
  "kernelspec": {
   "display_name": "Python [conda env:anaconda]",
   "language": "python",
   "name": "conda-env-anaconda-py"
  },
  "language_info": {
   "codemirror_mode": {
    "name": "ipython",
    "version": 3
   },
   "file_extension": ".py",
   "mimetype": "text/x-python",
   "name": "python",
   "nbconvert_exporter": "python",
   "pygments_lexer": "ipython3",
   "version": "3.5.6"
  }
 },
 "nbformat": 4,
 "nbformat_minor": 2
}
