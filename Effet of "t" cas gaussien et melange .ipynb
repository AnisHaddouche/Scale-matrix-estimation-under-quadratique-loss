{
 "cells": [
  {
   "cell_type": "code",
   "execution_count": 2,
   "metadata": {},
   "outputs": [],
   "source": [
    "import numpy as np \n",
    "from numpy import random\n",
    "import pandas as pd \n",
    "import seaborn as sns\n",
    "import scipy \n",
    "from scipy.stats import chi2\n",
    "import math\n",
    "import sys\n",
    "from scipy.stats import beta\n",
    "import matplotlib.pyplot as plt"
   ]
  },
  {
   "cell_type": "code",
   "execution_count": 3,
   "metadata": {},
   "outputs": [
    {
     "data": {
      "image/png": "[encoded data removed]",
      "text/plain": [
       "<Figure size 288x237.6 with 1 Axes>"
      ]
     },
     "metadata": {
      "needs_background": "light"
     },
     "output_type": "display_data"
    },
    {
     "name": "stdout",
     "output_type": "stream",
     "text": [
      "t_max= 0.875\n",
      "Prial_max 4.209812233351405\n",
      "t_1 5.646494858742195\n"
     ]
    }
   ],
   "source": [
    "\n",
    "p = 25\n",
    "m = 10\n",
    "v=min(p,m)\n",
    "r=100\n",
    "N=   100 #Monte carlo nb de simulation\n",
    "\"------------Gaussian case-----------\"\n",
    "c=b=1\n",
    "K_st_st=1\n",
    "\"------------------------------------\"\n",
    "\n",
    "\"------------Mixture case------------\"\n",
    "#alpha= p/2 + .1 #alpha > p\\2\n",
    "#Beta=  .00001    #beta > 0\n",
    "#b=1\n",
    "#c=(alpha- p/2 ) / (alpha - p/2 + Beta)\n",
    "#K_st_st=beta.moment(2, alpha, Beta, loc=0, scale=1)\n",
    "\"------------------------------------\"\n",
    "\n",
    "a_Quad_loss = 1 /(K_st_st*( m + p + 1))\n",
    "t_K_Quad_loss =  ( 2*(p+m-2*v-1)*( (p+m+1)*((c/b)**2) - p - m +v -2 ) )/((p+m - 2*v+1)*(p+m-2*v+3) ) \n",
    "t_vec_Quad_loss=np.sort(np.random.uniform(low=-.5*t_K_Quad_loss,high=14*t_K_Quad_loss, size=r))\n",
    "Prial_K_a_Quad=np.zeros(r)\n",
    "Loss_Sigma_a_Quad = np.zeros(N) \n",
    "Loss_Sigma_K_Quad = np.zeros(N) \n",
    " \n",
    "#Sigma= np.zeros((p,p))\n",
    "#rho=0.9\n",
    "#for ii in range(0,p):\n",
    "#    for jj in range(0,p):\n",
    "#        Sigma[ii,jj] = rho**abs(ii-jj)\n",
    "Sigma=np.identity(p)       \n",
    "for kk in range(0,r-1):  \n",
    "    Mean = np.zeros(p)\n",
    "    for j in range(0,N-1): \n",
    "        np.random.seed(N)\n",
    "        \"------------Beta mixture case------------\"\n",
    "        #R=np.sqrt(np.random.beta(alpha, Beta, p));\n",
    "        #RR=np.tile(R,(m, 1))\n",
    "        #X=np.random.multivariate_normal(np.zeros(p), Sigma, m)\n",
    "        #U= np.multiply(X,RR)\n",
    "        \"------------------------------------------\"\n",
    "        \n",
    "        \"------------Gaussian case-----------------\"\n",
    "        U=np.random.multivariate_normal(Mean, Sigma,m )   \n",
    "        \"------------------------------------------\"\n",
    "\n",
    "        S = np.dot(U.T,U) \n",
    "        S_plus = np.linalg.pinv(S)                   # The Moore-Penrose inverse\n",
    "        trace_S_plus = np.matrix.trace(S_plus)       # Trace de S^+\n",
    "        mu = 1/ trace_S_plus\n",
    "        [R,V,D] = np.linalg.svd(U)                   # SVD pour U afin de construire S= H L_tilde H^T\n",
    "        L = np.diag(V*V )                          # Recuperer L\n",
    "        L_inv= np.linalg.inv(L)  \n",
    "        H = D.T       \n",
    "        H1 = H[:,0:v]  \n",
    "        \n",
    "        Sigma_hat_a_Quad_loss  =   a_Quad_loss *S \n",
    "        \n",
    "        Phi_K_Quad = L + mu * t_vec_Quad_loss[kk] * np.identity(v)\n",
    "        \n",
    "        Sigma_hat_K =  a_Quad_loss  * np.dot( np.dot(H1,Phi_K_Quad), H1.T ) # Estimateur de Konno\n",
    "    \n",
    "        Loss_Sigma_K_Quad[j]=np.matrix.trace( ( ( (np.linalg.inv(Sigma))@ (Sigma_hat_K ) )-np.identity(p) ) @  ( ( (np.linalg.inv(Sigma))@ (Sigma_hat_K ) )-np.identity(p) ))\n",
    "        Loss_Sigma_a_Quad[j] = np.matrix.trace( ( ( (np.linalg.inv(Sigma))@ (Sigma_hat_a_Quad_loss) )-np.identity(p) ) @  ( ( (np.linalg.inv(Sigma))@ (Sigma_hat_a_Quad_loss ) )-np.identity(p) ))\n",
    "                \n",
    "    Risk_Sigma_a_Quad=np.mean(Loss_Sigma_a_Quad)\n",
    "    Risk_Sigma_K_Quad=np.mean(Loss_Sigma_K_Quad)\n",
    "    \n",
    "    Prial_K_a_Quad[kk] = 100*( (Risk_Sigma_a_Quad - Risk_Sigma_K_Quad )  / Risk_Sigma_a_Quad)\n",
    "  \n",
    "#plt.figure(figsize=(4,3.3))\n",
    "plt.figure(figsize=(4,3.3))\n",
    "plt.xticks(np.arange(round(t_vec_Quad_loss.min()), t_vec_Quad_loss.max(), 1) )\n",
    "plt.yticks(np.arange(round(Prial_K_a_Quad.min()), round(Prial_K_a_Quad.max())+1, 1) )\n",
    "plt.plot(t_vec_Quad_loss[0:r-1],Prial_K_a_Quad[0:r-1],'k--')\n",
    "\n",
    "\n",
    "#plt.title('(m,p)=('+str(m)+\",\" +str(p)+')')\n",
    "plt.xlabel(\"t\")\n",
    "plt.ylabel(\"PRIAL\")\n",
    "#plt.legend()\n",
    "plt.savefig(\"plots.pdf\")\n",
    "plt.show()\n",
    "print(\"t_max=\",t_K_Quad_loss)\n",
    "print(\"Prial_max\",Prial_K_a_Quad.max())\n",
    "print(\"t_1\",t_vec_Quad_loss[pd.Series(Prial_K_a_Quad).idxmax()])"
   ]
  },
  {
   "cell_type": "code",
   "execution_count": 14,
   "metadata": {},
   "outputs": [
    {
     "data": {
      "text/plain": [
       "5.714354073681603"
      ]
     },
     "execution_count": 14,
     "metadata": {},
     "output_type": "execute_result"
    }
   ],
   "source": [
    "t_vec_Quad_loss[pd.Series(Prial_K_a_Quad).idxmax()]"
   ]
  },
  {
   "cell_type": "code",
   "execution_count": 11,
   "metadata": {},
   "outputs": [
    {
     "data": {
      "text/plain": [
       "11.297510594422919"
      ]
     },
     "execution_count": 11,
     "metadata": {},
     "output_type": "execute_result"
    }
   ],
   "source": [
    "t_vec_Quad_loss[92]"
   ]
  },
  {
   "cell_type": "code",
   "execution_count": null,
   "metadata": {},
   "outputs": [],
   "source": []
  }
 ],
 "metadata": {
  "kernelspec": {
   "display_name": "Python [conda env:anaconda]",
   "language": "python",
   "name": "conda-env-anaconda-py"
  },
  "language_info": {
   "codemirror_mode": {
    "name": "ipython",
    "version": 3
   },
   "file_extension": ".py",
   "mimetype": "text/x-python",
   "name": "python",
   "nbconvert_exporter": "python",
   "pygments_lexer": "ipython3",
   "version": "3.5.6"
  }
 },
 "nbformat": 4,
 "nbformat_minor": 2
}
