{
 "cells": [
  {
   "cell_type": "code",
   "execution_count": 20,
   "metadata": {},
   "outputs": [],
   "source": [
    "import numpy as np \n",
    "from numpy import random\n",
    "import pandas as pd \n",
    "#import seaborn as sns\n",
    "import scipy \n",
    "from scipy.stats import chi2\n",
    "import math\n",
    "import sys\n",
    "from scipy.stats import beta\n",
    "import matplotlib.pyplot as plt"
   ]
  },
  {
   "cell_type": "markdown",
   "metadata": {},
   "source": [
    "### The Gaussian case"
   ]
  },
  {
   "cell_type": "code",
   "execution_count": 21,
   "metadata": {},
   "outputs": [
    {
     "name": "stdout",
     "output_type": "stream",
     "text": [
      "Cout Q: Risk aS = 1.8837088988638144 || risk Konno = 1.759124800076145 || Prial  =  6.6137660050772205\n"
     ]
    }
   ],
   "source": [
    "\n",
    "p = 5;\n",
    "m= 10; \n",
    "N=   100\n",
    "v=min(p,m)\n",
    "b=1;c=1\n",
    "K_st_st=1\n",
    "a_Quad_loss = 1 / (K_st_st*( m + p + 1)) \n",
    "t_K_Quad_loss =  ( 2*(p+m-2*v-1)*( (p+m+1)*((c/b)**2) - p - m +v -2 ) )/((p+m - 2*v+1)*(p+m-2*v+3) ) \n",
    "\n",
    "Loss_Sigma_a_Quad = 0\n",
    "Loss_Sigma_K_Quad = 0 \n",
    "\n",
    "\n",
    "#------------Structure de Sigma-----------\n",
    "\"-------------Identity----------------------\"\n",
    "#Sigma=np.identity(p)\n",
    "\n",
    "\"------------Random--------------------\"\n",
    "#e =p*np.random.rand(p,p)\n",
    "#Sigma= np.dot(e.T,e)\n",
    "\"-----------Block----------------------\"\n",
    "#gamma=1.9\n",
    "#sigma=np.zeros(p)\n",
    "#for i in range(0,p):\n",
    "#    sigma[p-1-i]=gamma**i\n",
    "#Sigma=np.diag(sigma)\n",
    "\"----------AR-----------------------\"\n",
    "Sigma= np.zeros((p,p))\n",
    "rho=0.9\n",
    "\n",
    "for ii in range(0,p):\n",
    "    for jj in range(0,p):\n",
    "        Sigma[ii,jj] = rho**abs(ii-jj)\n",
    "\"-----------------------------------------\"\n",
    "\n",
    "#w, V = np.linalg.eig(Sigma)\n",
    "#Sigma=np.diag(w)\n",
    "Sigma_inv=np.linalg.inv(Sigma)\n",
    "\n",
    "for j in range(0,N): \n",
    "    U=np.random.multivariate_normal(np.zeros(p), Sigma,m)\n",
    "    S = np.dot(U.T,U) \n",
    "    S_plus = np.linalg.pinv(S) \n",
    "    trace_S_plus = np.matrix.trace(S_plus) \n",
    "    mu = 1/ trace_S_plus\n",
    "    [R,V,D] = np.linalg.svd(U)                   # SVD pour U=R'VD afin de construire S= H L_tilde H^T\n",
    "    #val_propre_S = V*V.T\n",
    "    L = np.diag(V*V )                          # Recuperer L\n",
    "    H1 = D.T[:,0:v]\n",
    "    Sigma_hat_a_Quad_loss  =   a_Quad_loss *S\n",
    "    Phi_K_Quad = L + mu * t_K_Quad_loss * np.identity(v)\n",
    "    Sigma_hat_K =  a_Quad_loss  * H1@Phi_K_Quad@H1.T # Estimateur de Konno\n",
    "    Loss_Sigma_K_Quad= Loss_Sigma_K_Quad +np.matrix.trace( ( ( Sigma_inv@Sigma_hat_K  )-np.identity(p) ) @  (  Sigma_inv@Sigma_hat_K  -np.identity(p) ))\n",
    "    Risk_Sigma_K_Quad=(1/N)*(Loss_Sigma_K_Quad)\n",
    "    \n",
    "    Loss_Sigma_a_Quad = Loss_Sigma_a_Quad + np.matrix.trace((   Sigma_inv@Sigma_hat_a_Quad_loss -np.identity(p) ) @  ( Sigma_inv@Sigma_hat_a_Quad_loss -np.identity(p) ))\n",
    "    Risk_Sigma_a_Quad=(1/N)*(Loss_Sigma_a_Quad)\n",
    "Prial_K_a_Quad = 100*( (Risk_Sigma_a_Quad - Risk_Sigma_K_Quad   ) / Risk_Sigma_a_Quad)\n",
    "print('Cout Q:','Risk aS =',Risk_Sigma_a_Quad,\"||\" ,'risk Konno =', Risk_Sigma_K_Quad,\"||\",'Prial  = ',Prial_K_a_Quad)\n",
    "\n",
    "\n",
    "\n",
    "\n",
    "\n",
    "\n"
   ]
  },
  {
   "cell_type": "markdown",
   "metadata": {},
   "source": [
    "#### The mixture of Beta case"
   ]
  },
  {
   "cell_type": "code",
   "execution_count": 3,
   "metadata": {},
   "outputs": [
    {
     "name": "stdout",
     "output_type": "stream",
     "text": [
      "Cout Q: Risk aS = 9.224889642278375 || risk Konno = 8.952971896843781 || Prial  =  2.947653099158763\n"
     ]
    }
   ],
   "source": [
    "\n",
    "p= 20;\n",
    "m = 25 ;\n",
    "N=   10\n",
    "v=min(p,m)\n",
    "alpha= p/2 + .1 #alpha > p\\2\n",
    "Beta=  .001    #beta > 0\n",
    "b=1\n",
    "c=(alpha- p/2 ) / (alpha - p/2 + Beta)\n",
    "K_st_st=beta.moment(2, alpha, Beta, loc=0, scale=1)\n",
    "a_Quad_loss = 1 / (K_st_st*( m + p + 1)) \n",
    "t_K_Quad_loss =  ( 2*(p+m-2*v-1)*( (p+m+1)*((c/b)**2) - p - m +v -2 ) )/((p+m - 2*v+1)*(p+m-2*v+3) ) \n",
    "\n",
    "Loss_Sigma_a_Quad = 0\n",
    "Loss_Sigma_K_Quad = 0 \n",
    "\n",
    "\n",
    "#------------Structure de Sigma-----------\n",
    "\"-------------Identity----------------------\"\n",
    "Sigma=np.identity(p)\n",
    "\"------------Random--------------------\"\n",
    "#e =p*np.random.rand(p,p)\n",
    "#Sigma= np.dot(e.T,e)\n",
    "\"-----------Block----------------------\"\n",
    "#gamma=1.9\n",
    "#sigma=np.zeros(p)\n",
    "#for i in range(0,p):\n",
    "#    sigma[p-1-i]=gamma**i\n",
    "#Sigma=np.diag(sigma)\n",
    "\"----------AR-----------------------\"\n",
    "#Sigma= np.zeros((p,p))\n",
    "#rho=0.9\n",
    "\n",
    "#for ii in range(0,p):\n",
    "#    for jj in range(0,p):\n",
    "#        Sigma[ii,jj] = rho**abs(ii-jj)\n",
    "\"-----------------------------------------\"\n",
    "\n",
    "for j in range(0,N): \n",
    "   # U=np.random.multivariate_normal(np.zeros(p), Sigma,m)\n",
    "    R=np.sqrt(np.random.beta(alpha, Beta, p));\n",
    "    RR=np.tile(R,(m, 1))\n",
    "    X=np.random.multivariate_normal(np.zeros(p), Sigma, m)\n",
    "    U= np.multiply(X,RR)\n",
    "    \n",
    "    S = np.dot(U.T,U) \n",
    "    S_plus = np.linalg.pinv(S) \n",
    "    trace_S_plus = np.matrix.trace(S_plus) \n",
    "    mu = 1/ trace_S_plus\n",
    "    [R,V,D] = np.linalg.svd(U)                   # SVD pour U=R'VD afin de construire S= H L_tilde H^T\n",
    "    #val_propre_S = V*V.T\n",
    "    L = np.diag(V*V )                          # Recuperer L\n",
    "    H1 = D.T[:,0:v]\n",
    "    Sigma_hat_a_Quad_loss  =   a_Quad_loss *S\n",
    "    Phi_K_Quad = L + mu * t_K_Quad_loss * np.identity(v)\n",
    "    Sigma_hat_K =  a_Quad_loss  * H1@Phi_K_Quad@H1.T # Estimateur de Konno\n",
    "    Loss_Sigma_K_Quad= Loss_Sigma_K_Quad +np.matrix.trace( ( ( (np.linalg.inv(Sigma))@ (Sigma_hat_K ) )-np.identity(p) ) @  ( ( (np.linalg.inv(Sigma))@ (Sigma_hat_K ) )-np.identity(p) ))\n",
    "    Risk_Sigma_K_Quad=(1/N)*(Loss_Sigma_K_Quad)\n",
    "    Loss_Sigma_a_Quad = Loss_Sigma_a_Quad + np.matrix.trace( ( ( (np.linalg.inv(Sigma))@ (Sigma_hat_a_Quad_loss) )-np.identity(p) ) @  ( ( (np.linalg.inv(Sigma))@ (Sigma_hat_a_Quad_loss ) )-np.identity(p) ))\n",
    "    Risk_Sigma_a_Quad=(1/N)*(Loss_Sigma_a_Quad)\n",
    "Prial_K_a_Quad = 100*( (Risk_Sigma_a_Quad - Risk_Sigma_K_Quad   ) / Risk_Sigma_a_Quad)\n",
    "print('Cout Q:','Risk aS =',Risk_Sigma_a_Quad,\"||\" ,'risk Konno =', Risk_Sigma_K_Quad,\"||\",'Prial  = ',Prial_K_a_Quad)\n",
    "\n"
   ]
  },
  {
   "cell_type": "markdown",
   "metadata": {},
   "source": [
    "#### Comparaison of Prials"
   ]
  },
  {
   "cell_type": "code",
   "execution_count": 29,
   "metadata": {
    "scrolled": true
   },
   "outputs": [
    {
     "name": "stdout",
     "output_type": "stream",
     "text": [
      "1.9455\n",
      "1.8806\n"
     ]
    }
   ],
   "source": [
    "np.random.seed(100)\n",
    "\n",
    "m=20 ; p=25;\n",
    "N=   1000\n",
    "v=min(p,m)\n",
    "b=1;c=1\n",
    "K_st_st=1\n",
    "a_Quad_loss = 1 / (K_st_st*( m + p + 1)) \n",
    "t_K_Quad_loss =  ( 2*(p+m-2*v-1)*( (p+m+1)*((c/b)**2) - p - m +v -2 ) )/((p+m - 2*v+1)*(p+m-2*v+3) ) \n",
    "Loss_Sigma_a_Quad = 0\n",
    "Loss_Sigma_K_Quad = 0 \n",
    "#------------Structure de Sigma-----------\n",
    "\"-------------Identity----------------------\"\n",
    "Sigma=np.identity(p)\n",
    "\"------------Random--------------------\"\n",
    "#e =p*np.random.rand(p,p)\n",
    "#Sigma= np.dot(e.T,e)\n",
    "\"-----------Block----------------------\"\n",
    "#gamma=1.2\n",
    "#sigma=np.zeros(p)\n",
    "#for i in range(0,p):\n",
    "#    sigma[p-1-i]=gamma**i\n",
    "#Sigma=np.diag(sigma)\n",
    "\"----------AR-----------------------\"\n",
    "#Sigma= np.zeros((p,p))\n",
    "#rho=0.9\n",
    "#for ii in range(0,p):\n",
    "#    for jj in range(0,p):\n",
    "#        Sigma[ii,jj] = rho**abs(ii-jj)\n",
    "\n",
    "\"-------Diagnoal Tsukuma--------\"\n",
    "\n",
    "#Sigma= np.zeros((p,p))\n",
    "#xx=np.zeros(p)\n",
    "#for i in range(0,p):\n",
    "#    xx[i]= 100**(1-(p-i)/p)\n",
    "#    xx[0]=100\n",
    "#Sigma=np.diag(-1*np.sort(-xx))\n",
    "\n",
    "\"-----------------------------------------\"\n",
    "Sigma_inv=np.linalg.inv(Sigma)\n",
    "\n",
    "for j in range(0,N): \n",
    "    U=np.random.multivariate_normal(np.zeros(p), Sigma,m)\n",
    "    S = np.dot(U.T,U) \n",
    "    S_plus = np.linalg.pinv(S) \n",
    "    trace_S_plus = np.matrix.trace(S_plus) \n",
    "    mu = 1/ trace_S_plus\n",
    "    [R,V,D] = np.linalg.svd(U)                   # SVD pour U=R'VD afin de construire S= H L_tilde H^T\n",
    "    #val_propre_S = V*V.T\n",
    "    L = np.diag(V*V )                          # Recuperer L\n",
    "    H1 = D.T[:,0:v]\n",
    "    Sigma_hat_a_Quad_loss  =   a_Quad_loss *S\n",
    "    Phi_K_Quad = L + mu * t_K_Quad_loss * np.identity(v)\n",
    "    Sigma_hat_K =  a_Quad_loss  * H1@Phi_K_Quad@H1.T # Estimateur de Konno\n",
    "    Loss_Sigma_K_Quad= Loss_Sigma_K_Quad +np.matrix.trace( ( ( Sigma_inv@Sigma_hat_K  )-np.identity(p) ) @  (  Sigma_inv@Sigma_hat_K  -np.identity(p) ))\n",
    "    Risk_Sigma_K_Quad=(1/N)*(Loss_Sigma_K_Quad)\n",
    "    Loss_Sigma_a_Quad = Loss_Sigma_a_Quad + np.matrix.trace((   Sigma_inv@Sigma_hat_a_Quad_loss -np.identity(p) ) @  ( Sigma_inv@Sigma_hat_a_Quad_loss -np.identity(p) ))\n",
    "    Risk_Sigma_a_Quad=(1/N)*(Loss_Sigma_a_Quad)\n",
    "Prial_K_a_Quad = 100*( (Risk_Sigma_a_Quad - Risk_Sigma_K_Quad   ) / Risk_Sigma_a_Quad)\n",
    "Prial_K_a_Quad = 100*( (Risk_Sigma_a_Quad - Risk_Sigma_K_Quad   ) / Risk_Sigma_a_Quad)\n",
    "#print('Cout Q:','Risk aS =',Risk_Sigma_a_Quad,\"||\" ,'risk Konno =', Risk_Sigma_K_Quad,\"||\",'Prial  = ',Prial_K_a_Quad)\n",
    "\n",
    "\n",
    "print(round(Prial_K_a_Quad,4))\n",
    "\n",
    "\n",
    "alpha=  p/2 + .1 #alpha > p\\2\n",
    "Beta=  .001    #beta > 0\n",
    "b=1\n",
    "c=(alpha- p/2 ) / (alpha - p/2 + Beta)\n",
    "K_st_st=beta.moment(2, alpha, Beta, loc=0, scale=1)\n",
    "a_Quad_loss = 1 / (K_st_st*( m + p + 1)) \n",
    "t_K_Quad_loss =  ( 2*(p+m-2*v-1)*( (p+m+1)*((c/b)**2) - p - m +v -2 ) )/((p+m - 2*v+1)*(p+m-2*v+3) ) \n",
    "Loss_Sigma_a_Quad = 0\n",
    "Loss_Sigma_K_Quad = 0\n",
    "for j in range(0,N): \n",
    "   # U=np.random.multivariate_normal(np.zeros(p), Sigma,m)\n",
    "    R=np.sqrt(np.random.beta(alpha, Beta, p));\n",
    "    RR=np.tile(R,(m, 1))\n",
    "    X=np.random.multivariate_normal(np.zeros(p), Sigma, m)\n",
    "    U= np.multiply(X,RR)\n",
    "    \n",
    "    S = np.dot(U.T,U) \n",
    "    S_plus = np.linalg.pinv(S) \n",
    "    trace_S_plus = np.matrix.trace(S_plus) \n",
    "    mu = 1/ trace_S_plus\n",
    "    [R,V,D] = np.linalg.svd(U)                   # SVD pour U=R'VD afin de construire S= H L_tilde H^T\n",
    "    #val_propre_S = V*V.T\n",
    "    L = np.diag(V*V )                          # Recuperer L\n",
    "    H1 = D.T[:,0:v]\n",
    "    Sigma_hat_a_Quad_loss  =   a_Quad_loss *S\n",
    "    Phi_K_Quad = L + mu * t_K_Quad_loss * np.identity(v)\n",
    "    Sigma_hat_K =  a_Quad_loss  * H1@Phi_K_Quad@H1.T # Estimateur de Konno\n",
    "    Loss_Sigma_K_Quad= Loss_Sigma_K_Quad +np.matrix.trace( ( ( Sigma_inv@Sigma_hat_K  )-np.identity(p) ) @  (  Sigma_inv@Sigma_hat_K  -np.identity(p) ))\n",
    "    Risk_Sigma_K_Quad=(1/N)*(Loss_Sigma_K_Quad)\n",
    "    Loss_Sigma_a_Quad = Loss_Sigma_a_Quad + np.matrix.trace((   Sigma_inv@Sigma_hat_a_Quad_loss -np.identity(p) ) @  ( Sigma_inv@Sigma_hat_a_Quad_loss -np.identity(p) ))\n",
    "    Risk_Sigma_a_Quad=(1/N)*(Loss_Sigma_a_Quad)\n",
    "Prial_K_a_Quad = 100*( (Risk_Sigma_a_Quad - Risk_Sigma_K_Quad   ) / Risk_Sigma_a_Quad)\n",
    "#print('Cout Q:','Risk aS =',Risk_Sigma_a_Quad,\"||\" ,'risk Konno =', Risk_Sigma_K_Quad,\"||\",'Prial  = ',Prial_K_a_Quad)\n",
    "print(round(Prial_K_a_Quad,4)) "
   ]
  },
  {
   "cell_type": "markdown",
   "metadata": {},
   "source": [
    "###tests estimateur de Tsukuma et kubokawa $()$"
   ]
  },
  {
   "cell_type": "code",
   "execution_count": 31,
   "metadata": {},
   "outputs": [
    {
     "data": {
      "text/plain": [
       "-366.61458873352444"
      ]
     },
     "execution_count": 31,
     "metadata": {},
     "output_type": "execute_result"
    }
   ],
   "source": [
    "\n",
    "p = 5;\n",
    "m= 10; \n",
    "N=   100\n",
    "v=min(p,m)\n",
    "\n",
    "b=1;c=1\n",
    "K_st_st=1\n",
    "a_Quad_loss = 1 / (K_st_st*( m + p + 1)) \n",
    "t_K_Quad_loss =  ( 2*(p+m-2*v-1)*( (p+m+1)*((c/b)**2) - p - m +v -2 ) )/((p+m - 2*v+1)*(p+m-2*v+3) ) \n",
    "\n",
    "Loss_Sigma_a_Quad = 0\n",
    "Loss_Sigma_K_Quad = 0 \n",
    "\n",
    "\n",
    "#------------Structure de Sigma-----------\n",
    "\"-------------Identity----------------------\"\n",
    "#Sigma=np.identity(p)\n",
    "\n",
    "\"------------Random--------------------\"\n",
    "#e =p*np.random.rand(p,p)\n",
    "#Sigma= np.dot(e.T,e)\n",
    "\"-----------Block----------------------\"\n",
    "#gamma=1.9\n",
    "#sigma=np.zeros(p)\n",
    "#for i in range(0,p):\n",
    "#    sigma[p-1-i]=gamma**i\n",
    "#Sigma=np.diag(sigma)\n",
    "\"----------AR-----------------------\"\n",
    "#Sigma= np.zeros((p,p))\n",
    "#rho=0.9\n",
    "\n",
    "#for ii in range(0,p):\n",
    "#    for jj in range(0,p):\n",
    "#        Sigma[ii,jj] = rho**abs(ii-jj)\n",
    "\"-----------------------------------------\"\n",
    "\n",
    "#w, V = np.linalg.eig(Sigma)\n",
    "#Sigma=np.diag(w)\n",
    "Sigma_inv=np.linalg.inv(Sigma)\n",
    "\n",
    "for j in range(0,N): \n",
    "    U=np.random.multivariate_normal(np.zeros(p), Sigma,m)\n",
    "    S = np.dot(U.T,U) \n",
    "    S_plus = np.linalg.pinv(S) \n",
    "    trace_S_plus = np.matrix.trace(S_plus) \n",
    "    mu = 1/ trace_S_plus\n",
    "    [R,V,D] = np.linalg.svd(U)                   # SVD pour U=R'VD afin de construire S= H L_tilde H^T\n",
    "    #val_propre_S = V*V.T\n",
    "    L = np.diag(V*V )                          # Recuperer L\n",
    "    H1 = D.T[:,0:v]\n",
    "    Sigma_hat_a_Quad_loss  =   a_Quad_loss *S\n",
    "    Phi_K_Quad = L + mu * t_K_Quad_loss * np.identity(v)\n",
    "    Sigma_hat_K =  a_Quad_loss  * H1@Phi_K_Quad@H1.T # Estimateur de Konno\n",
    "    Loss_Sigma_K_Quad= Loss_Sigma_K_Quad +np.matrix.trace( ( ( Sigma_inv@Sigma_hat_K  )-np.identity(p) ) @  (  Sigma_inv@Sigma_hat_K  -np.identity(p) ))\n",
    "    Risk_Sigma_K_Quad=(1/N)*(Loss_Sigma_K_Quad)\n",
    "    \n",
    "    Loss_Sigma_a_Quad = Loss_Sigma_a_Quad + np.matrix.trace((   Sigma_inv@Sigma_hat_a_Quad_loss -np.identity(p) ) @  ( Sigma_inv@Sigma_hat_a_Quad_loss -np.identity(p) ))\n",
    "    Risk_Sigma_a_Quad=(1/N)*(Loss_Sigma_a_Quad)\n",
    "Prial_K_a_Quad = 100*( (Risk_Sigma_a_Quad - Risk_Sigma_K_Quad   ) / Risk_Sigma_a_Quad)\n",
    "print('Cout Q:','Risk aS =',Risk_Sigma_a_Quad,\"||\" ,'risk Konno =', Risk_Sigma_K_Quad,\"||\",'Prial  = ',Prial_K_a_Quad)\n",
    "\n",
    "\n",
    "\n",
    "\n",
    "\n",
    "\n",
    "\n"
   ]
  },
  {
   "cell_type": "code",
   "execution_count": 41,
   "metadata": {},
   "outputs": [
    {
     "data": {
      "text/plain": [
       "True"
      ]
     },
     "execution_count": 41,
     "metadata": {},
     "output_type": "execute_result"
    }
   ],
   "source": [
    "c=4\n",
    "((L[1,1]**(c+1) - L[2,2]**(c+1) ) / (L[1,1]- L[2,2]) )> (L[1,1]**c + L[2,2]**c )"
   ]
  },
  {
   "cell_type": "code",
   "execution_count": 52,
   "metadata": {},
   "outputs": [
    {
     "name": "stderr",
     "output_type": "stream",
     "text": [
      "/Users/macbookpro/anaconda/lib/python3.5/site-packages/ipykernel/__main__.py:2: RuntimeWarning: divide by zero encountered in true_divide\n",
      "  from ipykernel import kernelapp as app\n"
     ]
    },
    {
     "data": {
      "text/plain": [
       "True"
      ]
     },
     "execution_count": 52,
     "metadata": {},
     "output_type": "execute_result"
    }
   ],
   "source": [
    "c=-4\n",
    "L=1./L\n",
    "((L[1,1]**(c+1) - L[2,2]**(c+1) ) / (L[1,1]- L[2,2]) ) < (L[1,1]**c + L[2,2]**c )"
   ]
  },
  {
   "cell_type": "code",
   "execution_count": 54,
   "metadata": {},
   "outputs": [
    {
     "data": {
      "text/plain": [
       "array([[0.0123408 ,        inf,        inf,        inf,        inf],\n",
       "       [       inf, 0.19235456,        inf,        inf,        inf],\n",
       "       [       inf,        inf, 0.60888865,        inf,        inf],\n",
       "       [       inf,        inf,        inf, 2.51821936,        inf],\n",
       "       [       inf,        inf,        inf,        inf, 6.54708093]])"
      ]
     },
     "execution_count": 54,
     "metadata": {},
     "output_type": "execute_result"
    }
   ],
   "source": [
    "np.range([start, ]stop, [step]) "
   ]
  },
  {
   "cell_type": "code",
   "execution_count": null,
   "metadata": {},
   "outputs": [],
   "source": []
  }
 ],
 "metadata": {
  "kernelspec": {
   "display_name": "Python [conda env:anaconda]",
   "language": "python",
   "name": "conda-env-anaconda-py"
  },
  "language_info": {
   "codemirror_mode": {
    "name": "ipython",
    "version": 3
   },
   "file_extension": ".py",
   "mimetype": "text/x-python",
   "name": "python",
   "nbconvert_exporter": "python",
   "pygments_lexer": "ipython3",
   "version": "3.5.6"
  }
 },
 "nbformat": 4,
 "nbformat_minor": 2
}
